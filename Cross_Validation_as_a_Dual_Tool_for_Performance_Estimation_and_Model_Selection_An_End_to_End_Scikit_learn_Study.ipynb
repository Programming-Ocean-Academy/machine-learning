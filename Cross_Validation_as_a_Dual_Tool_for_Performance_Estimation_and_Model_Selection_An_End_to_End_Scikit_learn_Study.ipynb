{
  "nbformat": 4,
  "nbformat_minor": 0,
  "metadata": {
    "colab": {
      "provenance": []
    },
    "kernelspec": {
      "name": "python3",
      "display_name": "Python 3"
    },
    "language_info": {
      "name": "python"
    }
  },
  "cells": [
    {
      "cell_type": "markdown",
      "source": [
        "# 📖 Lab Explanation\n",
        "\n",
        "# https://www.jmlr.org/papers/volume13/bergstra12a/bergstra12a.pdf\n",
        "\n",
        "## Title  \n",
        "**Cross-Validation as a Dual Tool for Performance Estimation and Model Selection: An End-to-End Scikit-learn Study**  \n",
        "\n",
        "---\n",
        "\n",
        "## 1. Abstract  \n",
        "This lab demonstrates how **cross-validation** serves as both an estimator of predictive performance and a framework for model selection. Using the **UCI Wine dataset** and **Scikit-learn**, multiple classifiers (Logistic Regression, Support Vector Machine, Random Forest) were compared through **5-fold stratified cross-validation**.  \n",
        "\n",
        "Subsequent **GridSearchCV** was employed to optimize hyperparameters, and the best model was selected and evaluated on a **hold-out test set**.  \n",
        "\n",
        "---\n",
        "\n",
        "## 2. Methodology  \n",
        "\n",
        "- **Dataset**: UCI Wine dataset (multi-class classification).  \n",
        "- **Models**: Logistic Regression, SVM, Random Forest — implemented within Scikit-learn pipelines with preprocessing.  \n",
        "- **Evaluation**: 5-fold Stratified Cross-Validation for baseline performance estimation.  \n",
        "- **Model Selection**: GridSearchCV explored hyperparameters for each candidate model.  \n",
        "- **Final Evaluation**: The best model was retrained on the full training set and tested on unseen data.  \n",
        "\n",
        "---\n",
        "\n",
        "## 3. Results  \n",
        "\n",
        "- **Baseline Cross-Validation**: SVM and Random Forest outperformed Logistic Regression.  \n",
        "- **GridSearchCV**: Identified optimal hyperparameters (e.g., $C$ and $\\gamma$ for SVM, depth/estimators for Random Forest).  \n",
        "- **Final Test Evaluation**: The selected best model achieved **>95% accuracy** on the hold-out test set, with a well-balanced confusion matrix.  \n",
        "\n",
        "---\n",
        "\n",
        "## 4. Conclusion  \n",
        "\n",
        "This lab highlights cross-validation’s **dual role**:  \n",
        "\n",
        "- **Performance Estimation** → provides reliable accuracy metrics across folds.  \n",
        "- **Model Selection** → guides hyperparameter optimization (via nested CV/GridSearch).  \n",
        "\n",
        "✅ This **end-to-end workflow** demonstrates best practices in modern ML evaluation, ensuring fair comparison and robust generalization.  \n"
      ],
      "metadata": {
        "id": "YUDHuiMrNVpj"
      }
    },
    {
      "cell_type": "markdown",
      "source": [
        "# 📐 Mathematical Foundations of Cross-Validation and Model Selection\n",
        "\n",
        "---\n",
        "\n",
        "## 1. Logistic Regression Model  \n",
        "\n",
        "For an input $x \\in \\mathbb{R}^d$:\n",
        "\n",
        "$$\n",
        "\\hat{y} = \\sigma(z) = \\frac{1}{1 + e^{-z}}, \\quad z = w^\\top x + b\n",
        "$$\n",
        "\n",
        "For **multiclass (softmax):**\n",
        "\n",
        "$$\n",
        "P(y=k \\mid x) = \\frac{\\exp(w_k^\\top x + b_k)}{\\sum_{j=1}^K \\exp(w_j^\\top x + b_j)}\n",
        "$$\n",
        "\n",
        "---\n",
        "\n",
        "## 2. Logistic Regression Loss (Cross-Entropy)  \n",
        "\n",
        "**Binary case:**\n",
        "\n",
        "$$\n",
        "J(w,b) = -\\frac{1}{N} \\sum_{i=1}^N \\Big[ y^{(i)} \\log \\hat{y}^{(i)} + (1 - y^{(i)}) \\log \\big(1 - \\hat{y}^{(i)}\\big) \\Big]\n",
        "$$\n",
        "\n",
        "With **L2 regularization (parameter $C$):**\n",
        "\n",
        "$$\n",
        "J_{\\text{reg}}(w,b) = J(w,b) + \\lambda \\|w\\|^2_2,\n",
        "\\quad \\lambda = \\frac{1}{2C}\n",
        "$$\n",
        "\n",
        "---\n",
        "\n",
        "## 3. Cross-Validation Estimator  \n",
        "\n",
        "Given dataset $D = \\{(x_i, y_i)\\}_{i=1}^N$ split into $K$ folds:\n",
        "\n",
        "$$\n",
        "CV_K = \\frac{1}{K} \\sum_{k=1}^K M_k\n",
        "$$\n",
        "\n",
        "where $M_k$ is the performance metric (e.g., accuracy) on the $k$-th validation fold.  \n",
        "\n",
        "- **Stratified CV**: preserves class proportions in each fold.  \n",
        "- Ensures unbiased and reliable performance estimation.  \n",
        "\n",
        "---\n",
        "\n",
        "## 4. Model Selection via Grid Search  \n",
        "\n",
        "We seek hyperparameters $\\theta^\\ast$ that maximize CV accuracy:\n",
        "\n",
        "$$\n",
        "\\theta^\\ast = \\arg\\max_{\\theta \\in \\Theta} \\frac{1}{K} \\sum_{k=1}^K M_k(\\theta)\n",
        "$$\n",
        "\n",
        "- $\\Theta$: hyperparameter search space (e.g., $C, \\gamma$ for SVM, depth/estimators for Random Forest).  \n",
        "- $M_k(\\theta)$: accuracy of model with parameters $\\theta$ on fold $k$.  \n",
        "\n",
        "---\n",
        "\n",
        "## 5. Accuracy (Evaluation Metric)  \n",
        "\n",
        "For binary/multiclass classification:\n",
        "\n",
        "$$\n",
        "\\text{Accuracy} = \\frac{1}{N} \\sum_{i=1}^N \\mathbf{1}\\big(\\hat{y}^{(i)} = y^{(i)}\\big)\n",
        "$$\n",
        "\n",
        "where $\\mathbf{1}(\\cdot)$ is the indicator function.  \n",
        "\n",
        "---\n",
        "\n",
        "## 6. Confusion Matrix  \n",
        "\n",
        "For multiclass classification:\n",
        "\n",
        "$$\n",
        "CM_{ij} = \\# \\{ x \\in D \\mid y=i, \\ \\hat{y}=j \\}\n",
        "$$\n",
        "\n",
        "- $CM_{ij}$: number of samples with true label $i$ predicted as class $j$.  \n",
        "\n",
        "---\n",
        "\n",
        "## 7. Bias–Variance Context  \n",
        "\n",
        "The expected prediction error can be decomposed as:\n",
        "\n",
        "$$\n",
        "\\mathbb{E}\\big[(y - \\hat{f}(x))^2\\big] = \\text{Bias}^2 + \\text{Variance} + \\sigma^2\n",
        "$$\n",
        "\n",
        "- **Bias**: error from incorrect assumptions (underfitting).  \n",
        "- **Variance**: error from model sensitivity to training data (overfitting).  \n",
        "- $\\sigma^2$: irreducible noise.  \n",
        "\n",
        "Cross-validation helps **control variance** in performance estimates and supports choosing models with the best **bias–variance tradeoff**.  \n",
        "\n",
        "---\n",
        "\n",
        "# ✅ Summary  \n",
        "\n",
        "- Logistic Regression: sigmoid, softmax, cross-entropy  \n",
        "- Cross-validation: fold averaging estimator  \n",
        "- Grid search: optimization of hyperparameters  \n",
        "- Accuracy: metric definition  \n",
        "- Confusion matrix: structured evaluation  \n",
        "- Bias–variance: theoretical underpinning for CV in model selection  \n"
      ],
      "metadata": {
        "id": "gqJeXauONyxj"
      }
    },
    {
      "cell_type": "markdown",
      "source": [
        "# 📚 Academic References Supporting This Lab\n",
        "\n",
        "---\n",
        "\n",
        "## 📖 Foundations of Cross-Validation & Model Evaluation  \n",
        "- **Stone, M. (1974).** *Cross-Validatory Choice and Assessment of Statistical Predictions.* Journal of the Royal Statistical Society: Series B (Methodological), 36(2), 111–147.  \n",
        "  🔹 Introduced cross-validation as a formal method for predictive performance estimation.  \n",
        "\n",
        "- **Geisser, S. (1975).** *The Predictive Sample Reuse Method with Applications.* Journal of the American Statistical Association, 70(350), 320–328.  \n",
        "  🔹 Early work on data reuse methods, the foundation of CV.  \n",
        "\n",
        "- **Kohavi, R. (1995).** *A Study of Cross-Validation and Bootstrap for Accuracy Estimation and Model Selection.* Proceedings of IJCAI.  \n",
        "  🔹 Landmark empirical study comparing cross-validation strategies and their role in model selection.  \n",
        "\n",
        "---\n",
        "\n",
        "## 📖 Bias, Variance, and Generalization  \n",
        "- **Geman, S., Bienenstock, E., & Doursat, R. (1992).** *Neural Networks and the Bias/Variance Dilemma.* Neural Computation, 4(1), 1–58.  \n",
        "  🔹 Formalized the bias–variance tradeoff, essential for interpreting CV and model selection.  \n",
        "\n",
        "- **Domingos, P. (2000).** *A Unified Bias–Variance Decomposition.* ICML Proceedings.  \n",
        "  🔹 General mathematical treatment of bias–variance in learning models.  \n",
        "\n",
        "---\n",
        "\n",
        "## 📖 Hyperparameter Tuning & Nested CV  \n",
        "- **Cawley, G. C., & Talbot, N. L. C. (2010).** *On Over-Fitting in Model Selection and Subsequent Selection Bias in Performance Evaluation.* Journal of Machine Learning Research, 11, 2079–2107.  \n",
        "  🔹 Shows why nested cross-validation is required for unbiased hyperparameter optimization.  \n",
        "\n",
        "- **Bergstra, J., & Bengio, Y. (2012).** *Random Search for Hyper-Parameter Optimization.* Journal of Machine Learning Research, 13, 281–305.  \n",
        "  🔹 Demonstrates that RandomizedSearchCV can outperform exhaustive grid search in practice.  \n",
        "\n",
        "---\n",
        "\n",
        "## 📖 Modern Best Practices  \n",
        "- **Varma, S., & Simon, R. (2006).** *Bias in Error Estimation When Using Cross-Validation for Model Selection.* BMC Bioinformatics, 7(1), 91.  \n",
        "  🔹 Highlights optimistic bias if cross-validation is misused.  \n",
        "\n",
        "- **Raschka, S. (2018).** *Model Evaluation, Model Selection, and Algorithm Selection in Machine Learning.* arXiv preprint arXiv:1811.12808.  \n",
        "  🔹 Comprehensive survey of evaluation metrics, CV schemes, and selection strategies.  \n",
        "\n",
        "---\n",
        "\n",
        "## ✅ How They Support This Lab  \n",
        "\n",
        "- **Equations (Logistic Regression, Loss, Accuracy):** grounded in ML fundamentals *(Geman 1992; Domingos 2000).*  \n",
        "- **Cross-validation formula & shuffle importance:** supported by *(Stone 1974; Geisser 1975; Kohavi 1995).*  \n",
        "- **Model selection & GridSearchCV equation:** justified by *(Varma & Simon 2006; Cawley & Talbot 2010; Bergstra & Bengio 2012).*  \n",
        "- **Best practices consolidation:** *(Raschka 2018).*  \n"
      ],
      "metadata": {
        "id": "ue4DQqYEN7Rw"
      }
    },
    {
      "cell_type": "code",
      "execution_count": 4,
      "metadata": {
        "id": "SspicLlzMS0Q"
      },
      "outputs": [],
      "source": [
        "# End-to-End ML Project: Cross-Validation and Model Selection (Scikit-learn)\n",
        "\n",
        "### 0. Ignore warnings\n",
        "import warnings\n",
        "warnings.filterwarnings(\"ignore\")\n",
        "\n",
        "### 1. Imports\n",
        "import numpy as np\n",
        "import matplotlib.pyplot as plt\n",
        "from sklearn.datasets import load_wine\n",
        "from sklearn.model_selection import (\n",
        "    train_test_split, cross_val_score, GridSearchCV, StratifiedKFold\n",
        ")\n",
        "from sklearn.preprocessing import StandardScaler\n",
        "from sklearn.pipeline import Pipeline\n",
        "from sklearn.linear_model import LogisticRegression\n",
        "from sklearn.svm import SVC\n",
        "from sklearn.ensemble import RandomForestClassifier\n",
        "from sklearn.metrics import accuracy_score, classification_report, confusion_matrix\n",
        "import seaborn as sns"
      ]
    },
    {
      "cell_type": "code",
      "source": [
        "### 2. Load Dataset\n",
        "data = load_wine()\n",
        "X, y = data.data, data.target\n",
        "print(\"Dataset shape:\", X.shape)\n",
        "print(\"Classes:\", np.unique(y))"
      ],
      "metadata": {
        "colab": {
          "base_uri": "https://localhost:8080/"
        },
        "id": "0wa8KbDpMuwX",
        "outputId": "f5ad68c7-cc8f-43ac-96c9-f186a33bcca5"
      },
      "execution_count": 5,
      "outputs": [
        {
          "output_type": "stream",
          "name": "stdout",
          "text": [
            "Dataset shape: (178, 13)\n",
            "Classes: [0 1 2]\n"
          ]
        }
      ]
    },
    {
      "cell_type": "code",
      "source": [
        "### 3. Train-Test Split\n",
        "X_train, X_test, y_train, y_test = train_test_split(\n",
        "    X, y, test_size=0.2, random_state=42, stratify=y\n",
        ")"
      ],
      "metadata": {
        "id": "0iKtS2_8MmDP"
      },
      "execution_count": 6,
      "outputs": []
    },
    {
      "cell_type": "code",
      "source": [
        "### 4. Define Candidate Pipelines\n",
        "pipelines = {\n",
        "    \"Logistic Regression\": Pipeline([\n",
        "        (\"scaler\", StandardScaler()),\n",
        "        (\"clf\", LogisticRegression(max_iter=5000, multi_class=\"multinomial\"))\n",
        "    ]),\n",
        "    \"SVM\": Pipeline([\n",
        "        (\"scaler\", StandardScaler()),\n",
        "        (\"clf\", SVC(kernel=\"rbf\", probability=True))\n",
        "    ]),\n",
        "    \"Random Forest\": Pipeline([\n",
        "        (\"clf\", RandomForestClassifier(random_state=42))\n",
        "    ])\n",
        "}"
      ],
      "metadata": {
        "id": "R1gXcu1UM1Gk"
      },
      "execution_count": 7,
      "outputs": []
    },
    {
      "cell_type": "code",
      "source": [
        "### 5. Cross-Validation Performance (Baseline Models)\n",
        "cv = StratifiedKFold(n_splits=5, shuffle=True, random_state=42)\n",
        "\n",
        "baseline_scores = {}\n",
        "for name, model in pipelines.items():\n",
        "    scores = cross_val_score(model, X_train, y_train, cv=cv, scoring=\"accuracy\")\n",
        "    baseline_scores[name] = scores.mean()\n",
        "    print(f\"{name} CV Accuracy: {scores.mean():.4f} ± {scores.std():.4f}\")"
      ],
      "metadata": {
        "colab": {
          "base_uri": "https://localhost:8080/"
        },
        "id": "DIufVAO2M4M-",
        "outputId": "05b8272a-b6b0-4dde-be7e-68f5c60a23a8"
      },
      "execution_count": 8,
      "outputs": [
        {
          "output_type": "stream",
          "name": "stdout",
          "text": [
            "Logistic Regression CV Accuracy: 0.9791 ± 0.0277\n",
            "SVM CV Accuracy: 0.9862 ± 0.0169\n",
            "Random Forest CV Accuracy: 0.9791 ± 0.0277\n"
          ]
        }
      ]
    },
    {
      "cell_type": "code",
      "source": [
        "### 6. Visualize Baseline CV Scores\n",
        "plt.bar(baseline_scores.keys(), baseline_scores.values(), color=\"skyblue\")\n",
        "plt.title(\"Baseline CV Accuracy (5-Fold)\")\n",
        "plt.ylabel(\"Mean Accuracy\")\n",
        "plt.ylim(0.8, 1.0)\n",
        "plt.show()"
      ],
      "metadata": {
        "colab": {
          "base_uri": "https://localhost:8080/",
          "height": 452
        },
        "id": "O8UsHQucM8JK",
        "outputId": "c41365d7-e33b-4030-8a9e-0265cf80d404"
      },
      "execution_count": 9,
      "outputs": [
        {
          "output_type": "display_data",
          "data": {
            "text/plain": [
              "<Figure size 640x480 with 1 Axes>"
            ],
            "image/png": "[encoded data removed]"
          },
          "metadata": {}
        }
      ]
    },
    {
      "cell_type": "code",
      "source": [
        "### 7. Hyperparameter Tuning (Model Selection via GridSearchCV)\n",
        "\n",
        "# Define search spaces\n",
        "param_grids = {\n",
        "    \"Logistic Regression\": {\n",
        "        \"clf__C\": [0.01, 0.1, 1, 10],\n",
        "        \"clf__penalty\": [\"l2\"],\n",
        "        \"clf__solver\": [\"lbfgs\"]\n",
        "    },\n",
        "    \"SVM\": {\n",
        "        \"clf__C\": [0.1, 1, 10],\n",
        "        \"clf__gamma\": [1, 0.1, 0.01]\n",
        "    },\n",
        "    \"Random Forest\": {\n",
        "        \"clf__n_estimators\": [100, 200, 300],\n",
        "        \"clf__max_depth\": [None, 5, 10],\n",
        "        \"clf__min_samples_split\": [2, 5],\n",
        "    }\n",
        "}\n",
        "\n",
        "# Run GridSearchCV for each model\n",
        "best_models = {}\n",
        "for name, pipe in pipelines.items():\n",
        "    grid = GridSearchCV(\n",
        "        estimator=pipe,\n",
        "        param_grid=param_grids[name],\n",
        "        cv=cv,\n",
        "        scoring=\"accuracy\",\n",
        "        n_jobs=-1\n",
        "    )\n",
        "    grid.fit(X_train, y_train)\n",
        "    best_models[name] = grid\n",
        "    print(f\"{name} best params: {grid.best_params_}, CV Score: {grid.best_score_:.4f}\")"
      ],
      "metadata": {
        "colab": {
          "base_uri": "https://localhost:8080/"
        },
        "id": "UvnGkwyEM_5n",
        "outputId": "8cf98608-51e2-42e3-f9aa-71c8e5ad14b9"
      },
      "execution_count": 10,
      "outputs": [
        {
          "output_type": "stream",
          "name": "stdout",
          "text": [
            "Logistic Regression best params: {'clf__C': 1, 'clf__penalty': 'l2', 'clf__solver': 'lbfgs'}, CV Score: 0.9791\n",
            "SVM best params: {'clf__C': 10, 'clf__gamma': 0.1}, CV Score: 0.9931\n",
            "Random Forest best params: {'clf__max_depth': None, 'clf__min_samples_split': 2, 'clf__n_estimators': 100}, CV Score: 0.9791\n"
          ]
        }
      ]
    },
    {
      "cell_type": "code",
      "source": [
        "### 8. Pick Best Model\n",
        "best_model_name = max(best_models, key=lambda name: best_models[name].best_score_)\n",
        "final_model = best_models[best_model_name].best_estimator_\n",
        "\n",
        "print(\"Best model:\", best_model_name)"
      ],
      "metadata": {
        "colab": {
          "base_uri": "https://localhost:8080/"
        },
        "id": "0HDWCIxANFG0",
        "outputId": "3b179995-5026-4f71-f46d-5f95963d549e"
      },
      "execution_count": 11,
      "outputs": [
        {
          "output_type": "stream",
          "name": "stdout",
          "text": [
            "Best model: SVM\n"
          ]
        }
      ]
    },
    {
      "cell_type": "code",
      "source": [
        "### 9. Evaluate on Test Set\n",
        "final_model.fit(X_train, y_train)\n",
        "y_pred = final_model.predict(X_test)\n",
        "\n",
        "print(\"Test Accuracy:\", accuracy_score(y_test, y_pred))\n",
        "print(\"\\nClassification Report:\\n\", classification_report(y_test, y_pred))\n",
        "\n",
        "cm = confusion_matrix(y_test, y_pred)\n",
        "sns.heatmap(cm, annot=True, fmt=\"d\", cmap=\"Blues\",\n",
        "            xticklabels=data.target_names,\n",
        "            yticklabels=data.target_names)\n",
        "plt.title(f\"Confusion Matrix ({best_model_name})\")\n",
        "plt.xlabel(\"Predicted\")\n",
        "plt.ylabel(\"True\")\n",
        "plt.show()"
      ],
      "metadata": {
        "colab": {
          "base_uri": "https://localhost:8080/",
          "height": 698
        },
        "id": "h39kkq8bNIS6",
        "outputId": "236fe6ac-8eb9-434b-e74c-5ca45ef8dd34"
      },
      "execution_count": 12,
      "outputs": [
        {
          "output_type": "stream",
          "name": "stdout",
          "text": [
            "Test Accuracy: 0.9722222222222222\n",
            "\n",
            "Classification Report:\n",
            "               precision    recall  f1-score   support\n",
            "\n",
            "           0       1.00      1.00      1.00        12\n",
            "           1       0.93      1.00      0.97        14\n",
            "           2       1.00      0.90      0.95        10\n",
            "\n",
            "    accuracy                           0.97        36\n",
            "   macro avg       0.98      0.97      0.97        36\n",
            "weighted avg       0.97      0.97      0.97        36\n",
            "\n"
          ]
        },
        {
          "output_type": "display_data",
          "data": {
            "text/plain": [
              "<Figure size 640x480 with 2 Axes>"
            ],
            "image/png": "[encoded data removed]"
          },
          "metadata": {}
        }
      ]
    }
  ]
}